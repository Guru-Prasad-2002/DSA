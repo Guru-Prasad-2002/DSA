{
 "cells": [
  {
   "cell_type": "code",
   "execution_count": 3,
   "metadata": {},
   "outputs": [
    {
     "name": "stdout",
     "output_type": "stream",
     "text": [
      "3\n"
     ]
    }
   ],
   "source": [
    "import math\n",
    "print(math.ceil(2.5))"
   ]
  },
  {
   "cell_type": "code",
   "execution_count": 5,
   "metadata": {},
   "outputs": [
    {
     "name": "stdout",
     "output_type": "stream",
     "text": [
      "Swap Successfull\n",
      "Printing list\n",
      "[1, 2, 4, 3, 5]\n"
     ]
    }
   ],
   "source": [
    "\n",
    "def swap(i,j,l):\n",
    "    temp=l[i]\n",
    "    l[i]=l[j]\n",
    "    l[j]=temp\n",
    "    print(\"Swap Successfull\")\n",
    "def dosomething():\n",
    "    l=[1,2,3,4,5]\n",
    "    swap(2,3,l)\n",
    "    print(\"Printing list\")\n",
    "    print(l)\n",
    "\n",
    "dosomething()"
   ]
  },
  {
   "cell_type": "code",
   "execution_count": null,
   "metadata": {},
   "outputs": [],
   "source": [
    "class Solution:\n",
    "    #Function to partition the array around the range such \n",
    "    #that array is divided into three parts.\n",
    "    def swap(self,array,a,b):\n",
    "        temp=array[a]\n",
    "        array[a]=array[b]\n",
    "        array[b]=temp\n",
    "    \n",
    "\tdef threeWayPartition(self, array, a, b):\n",
    "\t    # code here \n",
    "\t    n=len(array)\n",
    "\t    high=n-1\n",
    "\t    low=0\n",
    "\t    mid=0\n",
    "\t    while(mid<=high):\n",
    "\t        if(array[mid]<=a):\n",
    "\t            self.swap(array,low,mid)\n",
    "\t            low=low+1\n",
    "\t            mid=mid+1\n",
    "\t        elif(array[mid]>=b):\n",
    "\t            self.swap(array,high,mid)\n",
    "\t            high=high-1\n",
    "\t        else:\n",
    "\t            mid=mid+1\n"
   ]
  }
 ],
 "metadata": {
  "kernelspec": {
   "display_name": "venv",
   "language": "python",
   "name": "python3"
  },
  "language_info": {
   "codemirror_mode": {
    "name": "ipython",
    "version": 3
   },
   "file_extension": ".py",
   "mimetype": "text/x-python",
   "name": "python",
   "nbconvert_exporter": "python",
   "pygments_lexer": "ipython3",
   "version": "3.10.5"
  },
  "orig_nbformat": 4
 },
 "nbformat": 4,
 "nbformat_minor": 2
}
